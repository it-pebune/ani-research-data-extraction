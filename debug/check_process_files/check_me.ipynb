{
 "cells": [
  {
   "cell_type": "code",
   "execution_count": 2,
   "metadata": {},
   "outputs": [],
   "source": [
    "import json\n"
   ]
  },
  {
   "cell_type": "code",
   "execution_count": 47,
   "metadata": {},
   "outputs": [],
   "source": [
    "def get_label_info(node: dict) -> dict:\n",
    "    info = {}\n",
    "    \n",
    "    value = node['value_data']\n",
    "    bounding = value['bounding_box'][0]\n",
    "    \n",
    "    info['page_number'] = value['page_number']\n",
    "    info['bounding'] = {'x': bounding['x'], 'y': bounding['y']}\n",
    "    #'(x: ' + str(bounding['x']) + ' y; ' + str(bounding['y']) + ')';\n",
    "    info['text'] = node['value']\n",
    "    \n",
    "    return info"
   ]
  },
  {
   "cell_type": "code",
   "execution_count": 50,
   "metadata": {},
   "outputs": [],
   "source": [
    "def write_label_fields(fields: dict) -> dict:\n",
    "    label_values = {}\n",
    "    \n",
    "    for key in fields:\n",
    "        if fields[key]['value_type'] == 'string':\n",
    "            label_values[key] = get_label_info(fields[key])\n",
    "            \n",
    "    #label_values = sorted(label_values.items(), key=lambda value: label_values[key]['page_number'])\n",
    "    #for key in sorted(student_Dict, key = lambda name: student_Dict[name].age)\n",
    "        \n",
    "    for key in sorted(label_values, key=lambda x: (label_values[x]['page_number'], label_values[x]['bounding']['y'])):\n",
    "        info = label_values[key]          \n",
    "        print(key + ' - ' + info['text'] + ' [page: ' + str(info['page_number']) + \n",
    "              ', (x: ' + str(info['bounding']['x']) + 'y: ' + str(info['bounding']['y']) + ')'  + \n",
    "              ']')\n",
    "        \n",
    "    #for key in table_values:            \n",
    "    #    print(key + ' - ' + str(len(table_values[key])))\n",
    "    \n",
    "    return label_values\n"
   ]
  },
  {
   "cell_type": "code",
   "execution_count": 11,
   "metadata": {},
   "outputs": [
    {
     "name": "stdout",
     "output_type": "stream",
     "text": [
      "declaratii-de-integritate-cmodel:declaratii-de-avere-F01\n"
     ]
    }
   ],
   "source": [
    "NODE_ROOT = 'declaratii-de-integritate-cmodel:declaratii-de-avere-F01'\n",
    "NODE_FIELDS = 'fields'\n",
    "NODE_PAGES = 'pages'\n",
    "\n",
    "fields = []\n",
    "pages = []\n",
    "\n",
    "\n",
    "with open('test_table.json') as json_file:\n",
    "    data = json.load(json_file)\n",
    "    \n",
    "    assert NODE_ROOT in data.keys(), \"root key not found\"\n",
    "    root = data[NODE_ROOT] \n",
    "    assert root != None, \"root not found\"\n",
    "    \n",
    "    assert NODE_FIELDS in root.keys(), \"fields key not found\"\n",
    "    fields = root[NODE_FIELDS]\n",
    "    assert fields != None, \"fields not found\"\n",
    "    \n",
    "    assert NODE_PAGES in root.keys(), \"pages key not found\"\n",
    "    pages = root[NODE_PAGES]\n",
    "    assert pages != None, \"pages not found\"\n",
    "    \n",
    "    print(root['form_type'])\n",
    "    "
   ]
  },
  {
   "cell_type": "code",
   "execution_count": 51,
   "metadata": {},
   "outputs": [
    {
     "name": "stdout",
     "output_type": "stream",
     "text": [
      "NumePrenume - ALBOTA EMIL FLORIN [page: 1, (x: 2.97y: 1.49)]\n",
      "Functie - GENERAL [page: 1, (x: 1.61y: 1.62)]\n",
      "Institutie - INSPECTORATUL DE STAT IN CONSTRUCTII [page: 1, (x: 4.045y: 1.625)]\n",
      "LB_ART - cunoscand prevederile art. 292 din Codul penal privind falsul in declaratii, declar pe propria raspundere ca impreuna cu familia\" detin urmatoarele: [page: 1, (x: 0.555y: 2.305)]\n",
      "LB_BUNURI_IMOBILE - J. Bunuri imobile [page: 1, (x: 0.945y: 2.545)]\n",
      "LB_TERENURI - 1. Terenuri [page: 1, (x: 0.935y: 2.725)]\n",
      "Domiciliu - Albotã Oana şi Albotã Emil Florin [page: 1, (x: 6.675y: 6.115)]\n",
      "LB_CLADIRI - 2. Cladiri [page: 1, (x: 1.05y: 7.325)]\n",
      "LB_AUTOVEHICULE - 1. Autovehicule/autoturisme, tractoare, masini agricole, şalupe, iahturi si alte mijloace de transport care sunt supuse inmat ricularii, potrivit legii [page: 1, (x: 0.95y: 9.91)]\n",
      "LB_BUNURI_MOBILE - Numire in functie [page: 2, (x: 0.655y: 0.94)]\n",
      "LB_CONTURI_SI_DEPOZITE - Se vor mentiona toate bunurile aflate in proprietate, indiferent dach ele se afla sou nu pe teritoriul Romaniei [page: 2, (x: 1.135y: 3.06)]\n",
      "LB_BUNURI_MOBILE_3000 - III. Bunuri mobile, a caror valoare depaşeste 3.000 de curo ficcare, si bunuri imobile instrainate in ultimele 12 luni [page: 2, (x: 1.015y: 4.16)]\n",
      "LB_ACTIVE_FINANCIARE - IV. Active financiare [page: 2, (x: 1.045y: 5.34)]\n",
      "LB_PLASAMENTE - 2. Plasamente, investitii directe si imprumuturi acordate, daca valoarea de piath insumata a tuturor acestora depaşeste 5.000 de euro [page: 2, (x: 1.165y: 8.365)]\n",
      "LB_ALTE_ACTIVE - 3. Alte active producatoare de venituri nete, care insumate depasesc echivalentul a 5.000 de euro pe an: [page: 2, (x: 1.18y: 10.48)]\n",
      "Other net incomes - .... Numire in functie . [page: 3, (x: 0.525y: 0.91)]\n",
      "LB_DATORII - V. Datorii [page: 3, (x: 0.9y: 1.61)]\n",
      "LB_DEBITE - Debite, ipoteci, garantii emise in beneficiul unui tert, bunuri achizitionate in sistem leasing si alte asemenea bunuri, daca valoarea insumata a tuturor acestora depaşeste 5.000 de euro [page: 3, (x: 0.535y: 1.875)]\n",
      "LB_CADOURI - angajatorului, a caror valoare individuala depaşeste 500 de euro* [page: 3, (x: 0.535y: 3.83)]\n",
      "LB_VENITURI - declarare cadourile si tratatiile uzuale primite din partea rudelor de gradul [ si al [Hea VII. Venituri ale declarantului si ale membrilor sai de familie, realizate in ultimul an fiscal incheint (potrivit art. 41 din Legen nr. 571/2003 privind Codul fiscal, cu modificarile si completarile ulterioare) [page: 3, (x: 0.56y: 5.36)]\n",
      "Date of filling - 06-02-2017 [page: 4, (x: 1.4y: 0.745)]\n",
      "LB_END_TEXT - Prezenta declaratie constituie act public si raspund potrivit legii penale pentru inexactitatea sau caracterul incomplet al datelor mentionate. [page: 4, (x: 0.955y: 8.745)]\n"
     ]
    }
   ],
   "source": [
    "labels = write_label_fields(fields)   "
   ]
  },
  {
   "cell_type": "code",
   "execution_count": 42,
   "metadata": {},
   "outputs": [
    {
     "data": {
      "text/plain": [
       "['Functie',\n",
       " 'NumePrenume',\n",
       " 'LB_TERENURI',\n",
       " 'LB_CLADIRI',\n",
       " 'LB_ART',\n",
       " 'Domiciliu',\n",
       " 'LB_BUNURI_IMOBILE',\n",
       " 'LB_AUTOVEHICULE',\n",
       " 'Institutie',\n",
       " 'LB_BUNURI_MOBILE_3000',\n",
       " 'LB_BUNURI_MOBILE',\n",
       " 'LB_CONTURI_SI_DEPOZITE',\n",
       " 'LB_PLASAMENTE',\n",
       " 'LB_ACTIVE_FINANCIARE',\n",
       " 'LB_ALTE_ACTIVE',\n",
       " 'Other net incomes',\n",
       " 'LB_CADOURI',\n",
       " 'LB_VENITURI',\n",
       " 'LB_DATORII',\n",
       " 'LB_DEBITE',\n",
       " 'LB_END_TEXT',\n",
       " 'Date of filling']"
      ]
     },
     "execution_count": 42,
     "metadata": {},
     "output_type": "execute_result"
    }
   ],
   "source": [
    "\n",
    "sorted(labels, key=lambda x: labels[x]['page_number'])"
   ]
  }
 ],
 "metadata": {
  "kernelspec": {
   "display_name": ".venv",
   "language": "python",
   "name": "python3"
  },
  "language_info": {
   "codemirror_mode": {
    "name": "ipython",
    "version": 3
   },
   "file_extension": ".py",
   "mimetype": "text/x-python",
   "name": "python",
   "nbconvert_exporter": "python",
   "pygments_lexer": "ipython3",
   "version": "3.9.7 | packaged by conda-forge | (default, Sep 29 2021, 19:24:02) \n[Clang 11.1.0 ]"
  },
  "orig_nbformat": 4,
  "vscode": {
   "interpreter": {
    "hash": "2b3105a69132e35387b2e54e8f422eaa3d084efc370203acc28da283cb3babf6"
   }
  }
 },
 "nbformat": 4,
 "nbformat_minor": 2
}
